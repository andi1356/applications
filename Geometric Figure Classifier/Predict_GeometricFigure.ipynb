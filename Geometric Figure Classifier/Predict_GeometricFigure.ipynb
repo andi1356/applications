{
  "nbformat": 4,
  "nbformat_minor": 0,
  "metadata": {
    "colab": {
      "name": "Predict_GeometricFigure.ipynb",
      "provenance": []
    },
    "kernelspec": {
      "name": "python3",
      "display_name": "Python 3"
    },
    "language_info": {
      "name": "python"
    }
  },
  "cells": [
    {
      "cell_type": "code",
      "execution_count": 1,
      "metadata": {
        "id": "twDVSGJiOWmC"
      },
      "outputs": [],
      "source": [
        "from keras.models import load_model\n",
        "import tensorflow_hub as hub\n",
        "import glob\n",
        "import cv2\n",
        "import numpy as np\n",
        "import tkinter as tk\n",
        "from tkinter import filedialog as fd\n",
        "IMG_W, IMG_H = 224, 224\n",
        "CLASSES = ['empty_polygon', 'empty_triangle', 'full_polygon', 'full_triangle',\n",
        "           'hole_polygon', 'hole_triangle']"
      ]
    },
    {
      "cell_type": "code",
      "source": [
        "import os\n",
        "from google.colab import drive\n",
        "drive.mount(r'/content/drive')\n",
        "os.chdir(f'drive/MyDrive/Colab Notebooks/Triangles')\n",
        "base_dir = os.getcwd()\n",
        "print(base_dir)"
      ],
      "metadata": {
        "colab": {
          "base_uri": "https://localhost:8080/"
        },
        "id": "rcT6-ycfOyIK",
        "outputId": "1cfaa41f-74a8-4f54-8a9b-1860299738bd"
      },
      "execution_count": 2,
      "outputs": [
        {
          "output_type": "stream",
          "name": "stdout",
          "text": [
            "Mounted at /content/drive\n",
            "/content/drive/MyDrive/Colab Notebooks/Triangles\n"
          ]
        }
      ]
    },
    {
      "cell_type": "code",
      "source": [
        "def custom_load_model(fpath):\n",
        "    model = load_model((fpath), custom_objects={'KerasLayer': hub.KerasLayer})\n",
        "\n",
        "    return model\n",
        "\n",
        "\n",
        "def custom_load_image(fpath):\n",
        "    img = cv2.imread(fpath)\n",
        "    img = cv2.resize(img, (IMG_W, IMG_H))\n",
        "    img = np.reshape(img, [1, IMG_W, IMG_H, 3])\n",
        "    return img\n",
        "\n",
        "\n",
        "def predict(model, img):\n",
        "    lista = model.predict(img)\n",
        "    index = np.argmax(lista)\n",
        "    return CLASSES[index]"
      ],
      "metadata": {
        "id": "pBey6tPOOfla"
      },
      "execution_count": 3,
      "outputs": []
    },
    {
      "cell_type": "code",
      "source": [
        "model = custom_load_model('model.h5')\n",
        "\n",
        "img_path = sorted(glob.glob('predict_test/*.png'))\n",
        "images = [custom_load_image(img) for img in img_path]\n",
        "predictions = [predict(model, img) for img in images]"
      ],
      "metadata": {
        "id": "HGTvdZt6Oj7v"
      },
      "execution_count": null,
      "outputs": []
    },
    {
      "cell_type": "code",
      "source": [
        "flag = 'INCORECT'\n",
        "for index in range(len(predictions)):\n",
        "    if predictions[index] in img_path[index]:\n",
        "      flag = 'CORECT'\n",
        "    else:\n",
        "      flag = 'INCORECT'\n",
        "    print(predictions[index], img_path[index], flag)\n"
      ],
      "metadata": {
        "colab": {
          "base_uri": "https://localhost:8080/"
        },
        "id": "LnGszKT9PWZ5",
        "outputId": "0b06c4d7-762a-437e-de9e-96967dade4a8"
      },
      "execution_count": 9,
      "outputs": [
        {
          "output_type": "stream",
          "name": "stdout",
          "text": [
            "empty_polygon predict_test/empty_polygon0.png CORECT\n",
            "empty_polygon predict_test/empty_polygon1.png CORECT\n",
            "empty_polygon predict_test/empty_polygon2.png CORECT\n",
            "empty_triangle predict_test/empty_triangle_0.png CORECT\n",
            "empty_triangle predict_test/empty_triangle_1.png CORECT\n",
            "empty_triangle predict_test/empty_triangle_2.png CORECT\n",
            "empty_triangle predict_test/empty_triangle_3.png CORECT\n",
            "empty_triangle predict_test/empty_triangle_4.png CORECT\n",
            "full_polygon predict_test/full_polygon_0.png CORECT\n",
            "full_polygon predict_test/full_polygon_1.png CORECT\n",
            "full_triangle predict_test/full_polygon_2.png INCORECT\n",
            "full_polygon predict_test/full_polygon_3.png CORECT\n",
            "full_polygon predict_test/full_polygon_4.png CORECT\n",
            "full_polygon predict_test/full_polygon_5.png CORECT\n",
            "full_triangle predict_test/full_triangle_0.png CORECT\n",
            "full_triangle predict_test/full_triangle_1.png CORECT\n",
            "full_triangle predict_test/full_triangle_2.png CORECT\n",
            "full_triangle predict_test/full_triangle_3.png CORECT\n",
            "hole_polygon predict_test/hole_polygon_0.png CORECT\n",
            "hole_polygon predict_test/hole_polygon_1.png CORECT\n",
            "hole_polygon predict_test/hole_polygon_2.png CORECT\n",
            "hole_polygon predict_test/hole_polygon_3.png CORECT\n",
            "hole_polygon predict_test/hole_polygon_4.png CORECT\n",
            "hole_polygon predict_test/hole_polygon_5.png CORECT\n",
            "hole_triangle predict_test/hole_triangle0.png CORECT\n",
            "hole_triangle predict_test/hole_triangle1.png CORECT\n",
            "hole_triangle predict_test/hole_triangle2.png CORECT\n",
            "hole_triangle predict_test/hole_triangle3.png CORECT\n",
            "hole_triangle predict_test/hole_triangle4.png CORECT\n"
          ]
        }
      ]
    }
  ]
}