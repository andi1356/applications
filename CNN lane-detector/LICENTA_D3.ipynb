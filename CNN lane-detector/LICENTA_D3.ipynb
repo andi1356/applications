{
  "nbformat": 4,
  "nbformat_minor": 0,
  "metadata": {
    "colab": {
      "name": "LICENTA_mvirgo.ipynb",
      "provenance": []
    },
    "kernelspec": {
      "name": "python3",
      "display_name": "Python 3"
    },
    "language_info": {
      "name": "python"
    },
    "accelerator": "GPU"
  },
  "cells": [
    {
      "cell_type": "code",
      "metadata": {
        "id": "6ex9A3jO2WS6"
      },
      "source": [
        "import os\n",
        "import shutil\n",
        "import glob\n",
        "import cv2\n",
        "import matplotlib.pyplot as plt\n",
        "import numpy as np"
      ],
      "execution_count": null,
      "outputs": []
    },
    {
      "cell_type": "code",
      "metadata": {
        "id": "6XfxdcJM4Cqe"
      },
      "source": [
        "# # THIS CODE NEEDED TO BE RUN ONLY ONCE FOR COPYING FILES INTO ONE PLACE\n",
        "# train_dir = sorted(glob.glob(f'drive/MyDrive/Colab Notebooks/dataset/train/TrainSeq*/image/*.png'))\n",
        "# labels_dir = sorted(glob.glob(f'drive/MyDrive/Colab Notebooks/dataset/train/TrainSeq*/label/*.png'))\n",
        "\n",
        "# target_dir_train = f'drive/MyDrive/Colab Notebooks/dataset/train/trainA'\n",
        "# target_dir_label = f'drive/MyDrive/Colab Notebooks/dataset/train/labelA'\n",
        "\n",
        "# for file in train_dir:\n",
        "#   shutil.move(file, target_dir_train)\n",
        "# for file in labels_dir:\n",
        "  # shutil.move(file, target_dir_label)"
      ],
      "execution_count": null,
      "outputs": []
    },
    {
      "cell_type": "code",
      "metadata": {
        "id": "FVNkVmjl5AVk"
      },
      "source": [
        "# # THIS CODE NEEDED TO BE RUN ONLY ONCE FOR LABEL PRE-PROCESSING\n",
        "# labels_dir = sorted(glob.glob(f'drive/MyDrive/Colab Notebooks/dataset/train/labelA/*.png'))\n",
        "# labels = [cv2.imread(file) for file in labels_dir]\n",
        "\n",
        "# gray_labels = [cv2.cvtColor(img, cv2.COLOR_BGR2GRAY) for img in labels]\n",
        "# lane_labels = [cv2.inRange(img, 225, 227) for img in gray_labels]\n",
        "\n",
        "# seq = 0 \n",
        "# no = 0\n",
        "# for img in lane_labels:\n",
        "#   path = os.path.join('drive','MyDrive','Colab Notebooks', 'dataset','train','labelB','TrainSeq%02d_ColorLabel_%04d.png'% (seq, no))\n",
        "#   cv2.imwrite(path, img)\n",
        "#   no += 1\n",
        "#   if no == 60:\n",
        "#     no = 0\n",
        "#     seq += 1"
      ],
      "execution_count": null,
      "outputs": []
    },
    {
      "cell_type": "code",
      "metadata": {
        "id": "RVFgp9AV2gWV"
      },
      "source": [
        "\n"
      ],
      "execution_count": null,
      "outputs": []
    },
    {
      "cell_type": "code",
      "metadata": {
        "id": "oj3ju_7Um7Jy"
      },
      "source": [
        "# from PIL import Image\n",
        "# import pickle\n",
        "# import matplotlib.pyplot as plt\n",
        "\n",
        "# train_images_files = sorted(glob.glob(f'drive/MyDrive/Colab Notebooks/dataset/train/trainA/*.png'))\n",
        "# label_images_files = sorted(glob.glob(f'drive/MyDrive/Colab Notebooks/dataset/train/labelA/*.png'))\n",
        "\n",
        "# train_images = [Image.open(file) for file in train_images_files]\n",
        "# label_images = [Image.open(file) for file in label_images_files]\n",
        "\n",
        "# new_size = (160, 80)\n",
        "# train_images_r = [img.resize(new_size) for img in train_images]\n",
        "# label_images_r = [img.resize(new_size) for img in label_images]                            \n",
        "\n",
        "# train = [np.asarray(img) for img in train_images_r]\n",
        "# label = [np.asarray(img) for img in label_images_r]\n",
        "\n",
        "# pickle.dump(train,open(f'drive/MyDrive/Colab Notebooks/dataset/train.p', 'wb'))\n",
        "# pickle.dump(label,open(f'drive/MyDrive/Colab Notebooks/dataset/label.p', 'wb'))"
      ],
      "execution_count": null,
      "outputs": []
    },
    {
      "cell_type": "code",
      "metadata": {
        "id": "VX5c_GpIoQpX"
      },
      "source": [
        "import pickle\n",
        "train = pickle.load(open(f'drive/MyDrive/Colab Notebooks/dataset/full_CNN_train.p', 'rb'))\n",
        "label = pickle.load(open(f'drive/MyDrive/Colab Notebooks/dataset/full_CNN_labels.p', 'rb'))"
      ],
      "execution_count": null,
      "outputs": []
    },
    {
      "cell_type": "code",
      "metadata": {
        "id": "6vcAq7yBY6eA",
        "colab": {
          "base_uri": "https://localhost:8080/"
        },
        "outputId": "707a9948-24a8-4c1c-ba61-04e0d64311b8"
      },
      "source": [
        "print(train[0].shape)"
      ],
      "execution_count": null,
      "outputs": [
        {
          "output_type": "stream",
          "name": "stdout",
          "text": [
            "(80, 160, 3)\n"
          ]
        }
      ]
    },
    {
      "cell_type": "code",
      "metadata": {
        "id": "RAbizPYeF38i"
      },
      "source": [
        "train = np.array(train)\n",
        "label = np.array(label)\n",
        "label = label / 255"
      ],
      "execution_count": null,
      "outputs": []
    },
    {
      "cell_type": "code",
      "metadata": {
        "id": "Vwo1Yl0mJXOo"
      },
      "source": [
        "from sklearn.utils import shuffle\n",
        "from sklearn.model_selection import train_test_split\n",
        "\n",
        "train, label = shuffle(train, label)\n",
        "X_train, X_validation, y_train, y_validation = train_test_split(train, label, test_size=0.2)"
      ],
      "execution_count": null,
      "outputs": []
    },
    {
      "cell_type": "code",
      "metadata": {
        "id": "A2r0qA4Qv0uQ",
        "colab": {
          "base_uri": "https://localhost:8080/"
        },
        "outputId": "3dfb7301-8e4f-4d40-c17e-0c6421ebe844"
      },
      "source": [
        "BATCH_SIZE = 128\n",
        "EPOCHS = 10\n",
        "POOL_SIZE = (2, 2)\n",
        "INPUT_SHAPE = X_train.shape[1:]\n",
        "print('input_shape: ' + str(INPUT_SHAPE))\n",
        "print('X_train: ' + str(len(X_train)))\n",
        "print('X_val: ' + str(len(X_validation)))"
      ],
      "execution_count": null,
      "outputs": [
        {
          "output_type": "stream",
          "name": "stdout",
          "text": [
            "input_shape: (80, 160, 3)\n",
            "X_train: 10211\n",
            "X_val: 2553\n"
          ]
        }
      ]
    },
    {
      "cell_type": "code",
      "metadata": {
        "id": "LkoXVXxuv95c"
      },
      "source": [
        "import tensorflow as tf\n",
        "from keras.layers import BatchNormalization\n",
        "from keras.layers import Conv2D, Conv2DTranspose, MaxPooling2D\n",
        "from keras.layers import Activation, Dropout, UpSampling2D\n",
        "from keras import regularizers\n",
        "\n",
        "\n",
        "model = tf.keras.models.Sequential()\n",
        "# Normalizes incoming inputs. First layer needs the input shape to work\n",
        "model.add(BatchNormalization(input_shape=INPUT_SHAPE))\n",
        "\n",
        "# Below layers were re-named for easier reading of model summary; this not necessary\n",
        "# Conv Layer 1\n",
        "model.add(Conv2D(8, (3, 3), padding='valid', strides=(1,1), activation = 'relu', name = 'Conv1'))\n",
        "\n",
        "# Conv Layer 2\n",
        "model.add(Conv2D(16, (3, 3), padding='valid', strides=(1,1), activation = 'relu', name = 'Conv2'))\n",
        "\n",
        "# Pooling 1\n",
        "model.add(MaxPooling2D(pool_size=POOL_SIZE))\n",
        "\n",
        "# Conv Layer 3\n",
        "model.add(Conv2D(16, (3, 3), padding='valid', strides=(1,1), activation = 'relu', name = 'Conv3'))\n",
        "model.add(Dropout(0.2))\n",
        "\n",
        "# Conv Layer 4\n",
        "model.add(Conv2D(32, (3, 3), padding='valid', strides=(1,1), activation = 'relu', name = 'Conv4'))\n",
        "model.add(Dropout(0.2))\n",
        "\n",
        "# Conv Layer 5\n",
        "model.add(Conv2D(32, (3, 3), padding='valid', strides=(1,1), activation = 'relu', name = 'Conv5'))\n",
        "model.add(Dropout(0.2))\n",
        "\n",
        "# Pooling 2\n",
        "model.add(MaxPooling2D(pool_size=POOL_SIZE))\n",
        "\n",
        "# Conv Layer 6\n",
        "model.add(Conv2D(64, (3, 3), padding='valid', strides=(1,1), activation = 'relu', name = 'Conv6'))\n",
        "model.add(Dropout(0.2))\n",
        "\n",
        "# Conv Layer 7\n",
        "model.add(Conv2D(64, (3, 3), padding='valid', strides=(1,1), activation = 'relu', name = 'Conv7'))\n",
        "model.add(Dropout(0.2))\n",
        "\n",
        "# Pooling 3\n",
        "model.add(MaxPooling2D(pool_size=POOL_SIZE))\n",
        "\n",
        "# Upsample 1\n",
        "model.add(UpSampling2D(size=POOL_SIZE))\n",
        "\n",
        "# Deconv 1\n",
        "model.add(Conv2DTranspose(64, (3, 3), padding='valid', strides=(1,1), activation = 'relu', name = 'Deconv1'))\n",
        "model.add(Dropout(0.2))\n",
        "\n",
        "# Deconv 2\n",
        "model.add(Conv2DTranspose(64, (3, 3), padding='valid', strides=(1,1), activation = 'relu', name = 'Deconv2'))\n",
        "model.add(Dropout(0.2))\n",
        "\n",
        "# Upsample 2\n",
        "model.add(UpSampling2D(size=POOL_SIZE))\n",
        "\n",
        "# Deconv 3\n",
        "model.add(Conv2DTranspose(32, (3, 3), padding='valid', strides=(1,1), activation = 'relu', name = 'Deconv3'))\n",
        "model.add(Dropout(0.2))\n",
        "\n",
        "# Deconv 4\n",
        "model.add(Conv2DTranspose(32, (3, 3), padding='valid', strides=(1,1), activation = 'relu', name = 'Deconv4'))\n",
        "model.add(Dropout(0.2))\n",
        "\n",
        "# Deconv 5\n",
        "model.add(Conv2DTranspose(16, (3, 3), padding='valid', strides=(1,1), activation = 'relu', name = 'Deconv5'))\n",
        "model.add(Dropout(0.2))\n",
        "\n",
        "# Upsample 3\n",
        "model.add(UpSampling2D(size=POOL_SIZE))\n",
        "\n",
        "# Deconv 6\n",
        "model.add(Conv2DTranspose(16, (3, 3), padding='valid', strides=(1,1), activation = 'relu', name = 'Deconv6'))\n",
        "\n",
        "# Final layer - only including one channel so 1 filter\n",
        "model.add(Conv2DTranspose(1, (3, 3), padding='valid', strides=(1,1), activation = 'relu', name = 'Final'))\n",
        "\n"
      ],
      "execution_count": null,
      "outputs": []
    },
    {
      "cell_type": "code",
      "metadata": {
        "id": "sJIHLV7tF9_z"
      },
      "source": [
        "datagen = tf.keras.preprocessing.image.ImageDataGenerator(channel_shift_range=0.2,\n",
        "                                                          width_shift_range=.15,\n",
        "                                                          horizontal_flip=True,\n",
        "                                                          zoom_range=0.2,\n",
        "                                                          rotation_range=20)\n",
        "datagen.fit(X_train)"
      ],
      "execution_count": null,
      "outputs": []
    },
    {
      "cell_type": "code",
      "metadata": {
        "id": "50vJIvPbTcEd"
      },
      "source": [
        "model.compile(optimizer='Adam', loss='mean_squared_error', metrics=['accuracy'])\n"
      ],
      "execution_count": null,
      "outputs": []
    },
    {
      "cell_type": "code",
      "metadata": {
        "id": "2MYZBNABh2vp",
        "colab": {
          "base_uri": "https://localhost:8080/"
        },
        "outputId": "b9bd3f25-edc4-468d-b9c1-d71f8d765656"
      },
      "source": [
        "history = model.fit_generator(datagen.flow(X_train, y_train, batch_size=BATCH_SIZE),\n",
        "                    steps_per_epoch=len(X_train)/BATCH_SIZE,\n",
        "                    epochs=EPOCHS,\n",
        "                    verbose=1,\n",
        "                    validation_data=(X_validation, y_validation))"
      ],
      "execution_count": null,
      "outputs": [
        {
          "output_type": "stream",
          "name": "stderr",
          "text": [
            "/usr/local/lib/python3.7/dist-packages/ipykernel_launcher.py:5: UserWarning: `Model.fit_generator` is deprecated and will be removed in a future version. Please use `Model.fit`, which supports generators.\n",
            "  \"\"\"\n"
          ]
        },
        {
          "output_type": "stream",
          "name": "stdout",
          "text": [
            "Epoch 1/10\n",
            "79/79 [==============================] - 68s 671ms/step - loss: 0.0711 - accuracy: 0.8791 - val_loss: 0.0521 - val_accuracy: 0.9075\n",
            "Epoch 2/10\n",
            "79/79 [==============================] - 50s 624ms/step - loss: 0.0476 - accuracy: 0.9071 - val_loss: 0.0444 - val_accuracy: 0.9201\n",
            "Epoch 3/10\n",
            "79/79 [==============================] - 51s 634ms/step - loss: 0.0452 - accuracy: 0.9102 - val_loss: 0.0418 - val_accuracy: 0.9229\n",
            "Epoch 4/10\n",
            "79/79 [==============================] - 51s 633ms/step - loss: 0.0443 - accuracy: 0.9112 - val_loss: 0.0392 - val_accuracy: 0.9273\n",
            "Epoch 5/10\n",
            "79/79 [==============================] - 50s 621ms/step - loss: 0.0435 - accuracy: 0.9121 - val_loss: 0.0356 - val_accuracy: 0.9313\n",
            "Epoch 6/10\n",
            "79/79 [==============================] - 52s 645ms/step - loss: 0.0433 - accuracy: 0.9123 - val_loss: 0.0368 - val_accuracy: 0.9303\n",
            "Epoch 7/10\n",
            "79/79 [==============================] - 51s 640ms/step - loss: 0.0429 - accuracy: 0.9128 - val_loss: 0.0339 - val_accuracy: 0.9336\n",
            "Epoch 8/10\n",
            "79/79 [==============================] - 52s 648ms/step - loss: 0.0427 - accuracy: 0.9130 - val_loss: 0.0328 - val_accuracy: 0.9334\n",
            "Epoch 9/10\n",
            "79/79 [==============================] - 51s 631ms/step - loss: 0.0427 - accuracy: 0.9129 - val_loss: 0.0330 - val_accuracy: 0.9345\n",
            "Epoch 10/10\n",
            "79/79 [==============================] - 50s 631ms/step - loss: 0.0424 - accuracy: 0.9131 - val_loss: 0.0349 - val_accuracy: 0.9280\n"
          ]
        }
      ]
    },
    {
      "cell_type": "code",
      "metadata": {
        "id": "_GgT281Cx8wT",
        "colab": {
          "base_uri": "https://localhost:8080/"
        },
        "outputId": "bebfdb43-8215-46d1-a641-7bfae8f759ae"
      },
      "source": [
        "acc = history.history['accuracy']\n",
        "val_acc = history.history['val_accuracy']\n",
        "\n",
        "loss = history.history['loss']\n",
        "val_loss = history.history['val_loss']\n",
        "\n",
        "epochs_range = range(EPOCHS)\n",
        "\n",
        "plt.figure(figsize=(8, 8))\n",
        "plt.subplot(1, 2, 1)\n",
        "plt.plot(epochs_range, acc, label='Training Accuracy')\n",
        "plt.plot(epochs_range, val_acc, label='Validation Accuracy')\n",
        "plt.legend(loc='lower right')\n",
        "plt.title('Training and Validation Accuracy')\n",
        "\n",
        "plt.subplot(1, 2, 2)\n",
        "plt.plot(epochs_range, loss, label='Training Loss')\n",
        "plt.plot(epochs_range, val_loss, label='Validation Loss')\n",
        "plt.legend(loc='upper right')\n",
        "plt.title('Training and Validation Loss')\n",
        "plt.show()"
      ],
      "execution_count": null,
      "outputs": [
        {
          "output_type": "display_data",
          "data": {
            "image/png": "[encoded data removed]",
            "text/plain": [
              "<Figure size 576x576 with 2 Axes>"
            ]
          },
          "metadata": {
            "needs_background": "light"
          }
        }
      ]
    },
    {
      "cell_type": "code",
      "metadata": {
        "id": "SdKsSWqdS1OZ"
      },
      "source": [
        ""
      ],
      "execution_count": null,
      "outputs": []
    },
    {
      "cell_type": "code",
      "metadata": {
        "id": "WzeXlgvBTE_B"
      },
      "source": [
        ""
      ],
      "execution_count": null,
      "outputs": []
    },
    {
      "cell_type": "code",
      "metadata": {
        "id": "Wx0UpZi92gZD"
      },
      "source": [
        ""
      ],
      "execution_count": null,
      "outputs": []
    },
    {
      "cell_type": "code",
      "metadata": {
        "id": "YOaurv2r2gee"
      },
      "source": [
        ""
      ],
      "execution_count": null,
      "outputs": []
    },
    {
      "cell_type": "code",
      "metadata": {
        "id": "1pmh-Uq22ghr"
      },
      "source": [
        ""
      ],
      "execution_count": null,
      "outputs": []
    },
    {
      "cell_type": "code",
      "metadata": {
        "id": "z0t83ojc2gmb"
      },
      "source": [
        "## CNN"
      ],
      "execution_count": null,
      "outputs": []
    },
    {
      "cell_type": "code",
      "metadata": {
        "id": "Da2IOdF82gp5"
      },
      "source": [
        ""
      ],
      "execution_count": null,
      "outputs": []
    },
    {
      "cell_type": "code",
      "metadata": {
        "id": "OAKFL-6_2gti"
      },
      "source": [
        ""
      ],
      "execution_count": null,
      "outputs": []
    },
    {
      "cell_type": "code",
      "metadata": {
        "id": "uAX-Ld2B2gzx"
      },
      "source": [
        ""
      ],
      "execution_count": null,
      "outputs": []
    },
    {
      "cell_type": "code",
      "metadata": {
        "id": "53j9TjW52g3C"
      },
      "source": [
        ""
      ],
      "execution_count": null,
      "outputs": []
    },
    {
      "cell_type": "code",
      "metadata": {
        "id": "ZlaCBiRo2g7R"
      },
      "source": [
        ""
      ],
      "execution_count": null,
      "outputs": []
    },
    {
      "cell_type": "code",
      "metadata": {
        "id": "KvLwx-jA2g-t"
      },
      "source": [
        ""
      ],
      "execution_count": null,
      "outputs": []
    },
    {
      "cell_type": "code",
      "metadata": {
        "id": "_vu_wJsT2hBu"
      },
      "source": [
        ""
      ],
      "execution_count": null,
      "outputs": []
    },
    {
      "cell_type": "code",
      "metadata": {
        "id": "M0GsDjoIBF2U"
      },
      "source": [
        ""
      ],
      "execution_count": null,
      "outputs": []
    },
    {
      "cell_type": "code",
      "metadata": {
        "id": "77AOtyn9BFuC"
      },
      "source": [
        ""
      ],
      "execution_count": null,
      "outputs": []
    },
    {
      "cell_type": "code",
      "metadata": {
        "id": "A4k24WviBFii"
      },
      "source": [
        ""
      ],
      "execution_count": null,
      "outputs": []
    },
    {
      "cell_type": "code",
      "metadata": {
        "id": "8h3jqXc-BFNc"
      },
      "source": [
        ""
      ],
      "execution_count": null,
      "outputs": []
    }
  ]
}